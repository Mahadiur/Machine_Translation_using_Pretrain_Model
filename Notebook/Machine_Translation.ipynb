{
 "cells": [
  {
   "metadata": {
    "collapsed": true
   },
   "cell_type": "markdown",
   "source": "### **Machine Translation using Pretrain Model**",
   "id": "8ba0d0d2b0b3fcb8"
  },
  {
   "metadata": {
    "ExecuteTime": {
     "end_time": "2025-10-22T14:39:25.791433Z",
     "start_time": "2025-10-22T14:39:24.289790Z"
    }
   },
   "cell_type": "code",
   "source": [
    "''' Import all important Library '''\n",
    "import pandas as pd\n",
    "import os"
   ],
   "id": "1ebf8cc152cc8749",
   "outputs": [],
   "execution_count": 1
  },
  {
   "metadata": {
    "ExecuteTime": {
     "end_time": "2025-10-22T14:39:25.801362Z",
     "start_time": "2025-10-22T14:39:25.799753Z"
    }
   },
   "cell_type": "code",
   "source": [
    "''' Root and Dataset Path '''\n",
    "Root_dir = '/Users/mahadiur/Desktop/Bongodev MLops Projects/Machine Translation using Pretrain Model/Data'\n",
    "\n",
    "train_path = os.path.join(Root_dir, 'train.csv')\n",
    "test_path = os.path.join(Root_dir, 'test.csv')\n",
    "validation_path = os.path.join(Root_dir, 'val.csv')\n"
   ],
   "id": "ff3d084dfdf4301e",
   "outputs": [],
   "execution_count": 2
  },
  {
   "metadata": {
    "ExecuteTime": {
     "end_time": "2025-10-22T14:39:25.869910Z",
     "start_time": "2025-10-22T14:39:25.804897Z"
    }
   },
   "cell_type": "code",
   "source": [
    "''' Load Dataset '''\n",
    "train_dataset = pd.read_csv(train_path)\n",
    "test_dataset = pd.read_csv(test_path)\n",
    "validation_dataset = pd.read_csv(validation_path)\n",
    "\n",
    "train_dataset.head()"
   ],
   "id": "aafc870bdd777f38",
   "outputs": [
    {
     "data": {
      "text/plain": [
       "                                                  en  \\\n",
       "0       men with orange wristbands perform a dance .   \n",
       "1   a man with a grey beard is sitting by a window .   \n",
       "2     a dog walking through the water at the ocean .   \n",
       "3  a bike racer in a red jersey is pursued by ano...   \n",
       "4  two identical dogs bound across a lush green m...   \n",
       "\n",
       "                                                 bn  \n",
       "0                কমলা রিস্টব্যান্ড পড়া লোক নাচছে ।  \n",
       "1  ধূসর দাড়িওয়ালা একটি লোক জানালার কাছে বসে আছেন।  \n",
       "2         একটি কুকুর সমুদ্র তীরে পানির মধ্যে হাঁটছে  \n",
       "3                   দুজন বাইক চালক প্রতিযোগিতা করছে  \n",
       "4           দুইটি অভিন্ন কুকুর সতেজ তৃণভূমিতে আবদ্ধ  "
      ],
      "text/html": [
       "<div>\n",
       "<style scoped>\n",
       "    .dataframe tbody tr th:only-of-type {\n",
       "        vertical-align: middle;\n",
       "    }\n",
       "\n",
       "    .dataframe tbody tr th {\n",
       "        vertical-align: top;\n",
       "    }\n",
       "\n",
       "    .dataframe thead th {\n",
       "        text-align: right;\n",
       "    }\n",
       "</style>\n",
       "<table border=\"1\" class=\"dataframe\">\n",
       "  <thead>\n",
       "    <tr style=\"text-align: right;\">\n",
       "      <th></th>\n",
       "      <th>en</th>\n",
       "      <th>bn</th>\n",
       "    </tr>\n",
       "  </thead>\n",
       "  <tbody>\n",
       "    <tr>\n",
       "      <th>0</th>\n",
       "      <td>men with orange wristbands perform a dance .</td>\n",
       "      <td>কমলা রিস্টব্যান্ড পড়া লোক নাচছে ।</td>\n",
       "    </tr>\n",
       "    <tr>\n",
       "      <th>1</th>\n",
       "      <td>a man with a grey beard is sitting by a window .</td>\n",
       "      <td>ধূসর দাড়িওয়ালা একটি লোক জানালার কাছে বসে আছেন।</td>\n",
       "    </tr>\n",
       "    <tr>\n",
       "      <th>2</th>\n",
       "      <td>a dog walking through the water at the ocean .</td>\n",
       "      <td>একটি কুকুর সমুদ্র তীরে পানির মধ্যে হাঁটছে</td>\n",
       "    </tr>\n",
       "    <tr>\n",
       "      <th>3</th>\n",
       "      <td>a bike racer in a red jersey is pursued by ano...</td>\n",
       "      <td>দুজন বাইক চালক প্রতিযোগিতা করছে</td>\n",
       "    </tr>\n",
       "    <tr>\n",
       "      <th>4</th>\n",
       "      <td>two identical dogs bound across a lush green m...</td>\n",
       "      <td>দুইটি অভিন্ন কুকুর সতেজ তৃণভূমিতে আবদ্ধ</td>\n",
       "    </tr>\n",
       "  </tbody>\n",
       "</table>\n",
       "</div>"
      ]
     },
     "execution_count": 3,
     "metadata": {},
     "output_type": "execute_result"
    }
   ],
   "execution_count": 3
  }
 ],
 "metadata": {
  "kernelspec": {
   "display_name": "Python 3",
   "language": "python",
   "name": "python3"
  },
  "language_info": {
   "codemirror_mode": {
    "name": "ipython",
    "version": 2
   },
   "file_extension": ".py",
   "mimetype": "text/x-python",
   "name": "python",
   "nbconvert_exporter": "python",
   "pygments_lexer": "ipython2",
   "version": "2.7.6"
  }
 },
 "nbformat": 4,
 "nbformat_minor": 5
}
