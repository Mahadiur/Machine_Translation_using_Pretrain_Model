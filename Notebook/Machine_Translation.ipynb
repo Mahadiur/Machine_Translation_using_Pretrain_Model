{
 "cells": [
  {
   "metadata": {
    "collapsed": true
   },
   "cell_type": "markdown",
   "source": "### **Machine Translation using Pretrain Model**",
   "id": "8ba0d0d2b0b3fcb8"
  },
  {
   "metadata": {
    "ExecuteTime": {
     "end_time": "2025-10-27T13:37:35.020659Z",
     "start_time": "2025-10-27T13:37:35.017046Z"
    }
   },
   "cell_type": "code",
   "source": [
    "from pytorch_lightning.utilities.types import EVAL_DATALOADERS\n",
    "\n",
    "''' Import all important Library '''\n",
    "import pandas as pd\n",
    "import os\n",
    "import torch\n",
    "import pytorch_lightning\n",
    "from torch.utils.data import DataLoader, Dataset\n",
    "from transformers import AutoTokenizer, AutoModelForSeq2SeqLM\n",
    "import torch.nn as nn\n",
    "from torchmetrics.text import  BLEUScore"
   ],
   "id": "1ebf8cc152cc8749",
   "outputs": [],
   "execution_count": 8
  },
  {
   "metadata": {
    "ExecuteTime": {
     "end_time": "2025-10-27T13:37:35.038216Z",
     "start_time": "2025-10-27T13:37:35.035919Z"
    }
   },
   "cell_type": "code",
   "source": [
    "''' Root and Dataset Path '''\n",
    "Root_dir = '/Users/mahadiur/Desktop/Bongodev MLops Projects/Machine Translation using Pretrain Model/Data'\n",
    "\n",
    "train_path = os.path.join(Root_dir, 'train.csv')\n",
    "test_path = os.path.join(Root_dir, 'test.csv')\n",
    "validation_path = os.path.join(Root_dir, 'val.csv')\n"
   ],
   "id": "ff3d084dfdf4301e",
   "outputs": [],
   "execution_count": 9
  },
  {
   "metadata": {
    "ExecuteTime": {
     "end_time": "2025-10-27T13:37:35.113966Z",
     "start_time": "2025-10-27T13:37:35.042087Z"
    }
   },
   "cell_type": "code",
   "source": [
    "''' Load Dataset '''\n",
    "train_dataset = pd.read_csv(train_path)\n",
    "test_dataset = pd.read_csv(test_path)\n",
    "validation_dataset = pd.read_csv(validation_path)\n",
    "\n",
    "train_dataset.head()"
   ],
   "id": "aafc870bdd777f38",
   "outputs": [
    {
     "data": {
      "text/plain": [
       "                                                  en  \\\n",
       "0       men with orange wristbands perform a dance .   \n",
       "1   a man with a grey beard is sitting by a window .   \n",
       "2     a dog walking through the water at the ocean .   \n",
       "3  a bike racer in a red jersey is pursued by ano...   \n",
       "4  two identical dogs bound across a lush green m...   \n",
       "\n",
       "                                                 bn  \n",
       "0                কমলা রিস্টব্যান্ড পড়া লোক নাচছে ।  \n",
       "1  ধূসর দাড়িওয়ালা একটি লোক জানালার কাছে বসে আছেন।  \n",
       "2         একটি কুকুর সমুদ্র তীরে পানির মধ্যে হাঁটছে  \n",
       "3                   দুজন বাইক চালক প্রতিযোগিতা করছে  \n",
       "4           দুইটি অভিন্ন কুকুর সতেজ তৃণভূমিতে আবদ্ধ  "
      ],
      "text/html": [
       "<div>\n",
       "<style scoped>\n",
       "    .dataframe tbody tr th:only-of-type {\n",
       "        vertical-align: middle;\n",
       "    }\n",
       "\n",
       "    .dataframe tbody tr th {\n",
       "        vertical-align: top;\n",
       "    }\n",
       "\n",
       "    .dataframe thead th {\n",
       "        text-align: right;\n",
       "    }\n",
       "</style>\n",
       "<table border=\"1\" class=\"dataframe\">\n",
       "  <thead>\n",
       "    <tr style=\"text-align: right;\">\n",
       "      <th></th>\n",
       "      <th>en</th>\n",
       "      <th>bn</th>\n",
       "    </tr>\n",
       "  </thead>\n",
       "  <tbody>\n",
       "    <tr>\n",
       "      <th>0</th>\n",
       "      <td>men with orange wristbands perform a dance .</td>\n",
       "      <td>কমলা রিস্টব্যান্ড পড়া লোক নাচছে ।</td>\n",
       "    </tr>\n",
       "    <tr>\n",
       "      <th>1</th>\n",
       "      <td>a man with a grey beard is sitting by a window .</td>\n",
       "      <td>ধূসর দাড়িওয়ালা একটি লোক জানালার কাছে বসে আছেন।</td>\n",
       "    </tr>\n",
       "    <tr>\n",
       "      <th>2</th>\n",
       "      <td>a dog walking through the water at the ocean .</td>\n",
       "      <td>একটি কুকুর সমুদ্র তীরে পানির মধ্যে হাঁটছে</td>\n",
       "    </tr>\n",
       "    <tr>\n",
       "      <th>3</th>\n",
       "      <td>a bike racer in a red jersey is pursued by ano...</td>\n",
       "      <td>দুজন বাইক চালক প্রতিযোগিতা করছে</td>\n",
       "    </tr>\n",
       "    <tr>\n",
       "      <th>4</th>\n",
       "      <td>two identical dogs bound across a lush green m...</td>\n",
       "      <td>দুইটি অভিন্ন কুকুর সতেজ তৃণভূমিতে আবদ্ধ</td>\n",
       "    </tr>\n",
       "  </tbody>\n",
       "</table>\n",
       "</div>"
      ]
     },
     "execution_count": 10,
     "metadata": {},
     "output_type": "execute_result"
    }
   ],
   "execution_count": 10
  },
  {
   "metadata": {
    "ExecuteTime": {
     "end_time": "2025-10-27T13:37:35.119490Z",
     "start_time": "2025-10-27T13:37:35.117878Z"
    }
   },
   "cell_type": "code",
   "source": [
    "''' Device Check '''\n",
    "Device = torch.device('cuda' if torch.cuda.is_available() else 'cpu')\n",
    "print(f'Device: {Device}')"
   ],
   "id": "c5cd2fd182048880",
   "outputs": [
    {
     "name": "stdout",
     "output_type": "stream",
     "text": [
      "Device: cpu\n"
     ]
    }
   ],
   "execution_count": 11
  },
  {
   "metadata": {
    "ExecuteTime": {
     "end_time": "2025-10-27T13:37:35.144117Z",
     "start_time": "2025-10-27T13:37:35.142679Z"
    }
   },
   "cell_type": "code",
   "source": [
    "''' Pretrained Model '''\n",
    "Fine_Tune_Model_name = \"shhossain/opus-mt-en-to-bn\"\n"
   ],
   "id": "ca10a65987cf5f5c",
   "outputs": [],
   "execution_count": 12
  },
  {
   "metadata": {
    "ExecuteTime": {
     "end_time": "2025-10-27T13:37:37.082250Z",
     "start_time": "2025-10-27T13:37:35.150468Z"
    }
   },
   "cell_type": "code",
   "source": [
    "''' Tokenizer and Model '''\n",
    "Tokenizer = AutoTokenizer.from_pretrained(Fine_Tune_Model_name)\n",
    "Fine_Tune_Model = AutoModelForSeq2SeqLM.from_pretrained(Fine_Tune_Model_name)"
   ],
   "id": "f842cc5fc1178d1c",
   "outputs": [],
   "execution_count": 13
  },
  {
   "metadata": {},
   "cell_type": "markdown",
   "source": "### **Data(MT Part-1)**",
   "id": "811f8779f99f462e"
  },
  {
   "metadata": {
    "ExecuteTime": {
     "end_time": "2025-10-27T13:37:37.093004Z",
     "start_time": "2025-10-27T13:37:37.088751Z"
    }
   },
   "cell_type": "code",
   "source": [
    "''' Dataset Class '''\n",
    "class MTDataset(Dataset):\n",
    "    # Read csv file using pandas\n",
    "    def __init__(self, data_path):\n",
    "        super().__init__()\n",
    "        self.data = pd.read_csv(data_path)\n",
    "    # Find Dataset Length\n",
    "    def __len__(self):\n",
    "        return len(self.data)\n",
    "    # Ready single example\n",
    "    def __getitem__(self, item):\n",
    "        # English\n",
    "        source_te = str(self.data.iloc[item]['en'])\n",
    "        # Bangla\n",
    "        target_te = str(self.data.iloc[item]['bn'])\n",
    "\n",
    "        # All Token size must be match\n",
    "        source_encoder = Tokenizer(\n",
    "            source_te,\n",
    "            max_length=256,\n",
    "            truncation=True,\n",
    "            padding=\"max_length\",\n",
    "            return_tensors=\"pt\"\n",
    "        )\n",
    "\n",
    "        target_encoder = Tokenizer(\n",
    "            target_te,\n",
    "            max_length=256,\n",
    "            truncation=True,\n",
    "            padding=\"max_length\",\n",
    "            return_tensors=\"pt\"\n",
    "        )\n",
    "\n",
    "        # return outputs\n",
    "        return {\n",
    "            'source_encoder_input_ids': source_encoder['input_ids'].squeeze(),\n",
    "            'source_encoder_attention_mask': source_encoder['attention_mask'].squeeze(),\n",
    "            'target_encoder_input_ids': target_encoder['input_ids'].squeeze(),\n",
    "            'target_encoder_attention_mask': target_encoder['attention_mask'].squeeze(),\n",
    "        }\n"
   ],
   "id": "2a44c8a2d44cf502",
   "outputs": [],
   "execution_count": 14
  },
  {
   "metadata": {
    "ExecuteTime": {
     "end_time": "2025-10-27T13:37:37.101126Z",
     "start_time": "2025-10-27T13:37:37.097773Z"
    }
   },
   "cell_type": "code",
   "source": [
    "''' DataModule Class '''\n",
    "class MTDataModule(pytorch_lightning.LightningDataModule):\n",
    "    # Load Dataset using pandas\n",
    "    def __init__(self, train_csv, test_csv, val_csv, batch_size):\n",
    "        super().__init__()\n",
    "        self.train = train_csv\n",
    "        self.test = test_csv\n",
    "        self.val = val_csv\n",
    "        self.batch_size = batch_size\n",
    "\n",
    "    # Dataset\n",
    "    def setup(self, stage = None):\n",
    "        self.train_dataset = MTDataset(self.train)\n",
    "        self.test_dataset = MTDataset(self.test)\n",
    "        self.val_dataset = MTDataset(self.val)\n",
    "\n",
    "    # train Dataloader\n",
    "    def train_dataloader(self):\n",
    "        return DataLoader(\n",
    "            self.train_dataset,\n",
    "            batch_size=self.batch_size,\n",
    "            shuffle=True,\n",
    "        )\n",
    "    # validation Dataloader\n",
    "    def val_dataloader(self):\n",
    "        return DataLoader(\n",
    "             self.val_dataset,\n",
    "            batch_size=self.batch_size,\n",
    "            shuffle=False,\n",
    "        )\n",
    "    # Test Dataloader\n",
    "    def test_dataloader(self):\n",
    "        return DataLoader(\n",
    "            self.test_dataset,\n",
    "            batch_size=self.batch_size,\n",
    "            shuffle=False,\n",
    "        )\n"
   ],
   "id": "ff3722fdcedea124",
   "outputs": [],
   "execution_count": 15
  },
  {
   "metadata": {
    "ExecuteTime": {
     "end_time": "2025-10-27T13:37:37.109402Z",
     "start_time": "2025-10-27T13:37:37.107707Z"
    }
   },
   "cell_type": "code",
   "source": [
    "MTDataModule = MTDataModule(\n",
    "    train_csv=train_path,\n",
    "    test_csv=test_path,\n",
    "    val_csv=validation_path,\n",
    "    batch_size=32,\n",
    ")"
   ],
   "id": "dd34ee0c27ea6432",
   "outputs": [],
   "execution_count": 16
  },
  {
   "metadata": {},
   "cell_type": "markdown",
   "source": "",
   "id": "386824b797a7e0da"
  }
 ],
 "metadata": {
  "kernelspec": {
   "display_name": "Python 3 (ipykernel)",
   "language": "python",
   "name": "python3"
  },
  "language_info": {
   "codemirror_mode": {
    "name": "ipython",
    "version": 2
   },
   "file_extension": ".py",
   "mimetype": "text/x-python",
   "name": "python",
   "nbconvert_exporter": "python",
   "pygments_lexer": "ipython2",
   "version": "2.7.6"
  }
 },
 "nbformat": 4,
 "nbformat_minor": 5
}
